{
 "cells": [
  {
   "cell_type": "code",
   "execution_count": 2,
   "metadata": {},
   "outputs": [],
   "source": [
    "from keras.preprocessing.image import ImageDataGenerator\n",
    "train_datagen = ImageDataGenerator(rescale = 1./255, shear_range = 0.2,zoom_range =  0.2,horizontal_flip = True)\n",
    "test_datagen =  ImageDataGenerator(rescale = 1./255)"
   ]
  },
  {
   "cell_type": "code",
   "execution_count": 3,
   "metadata": {},
   "outputs": [
    {
     "name": "stdout",
     "output_type": "stream",
     "text": [
      "Found 359 images belonging to 5 classes.\n",
      "Found 159 images belonging to 5 classes.\n"
     ]
    }
   ],
   "source": [
    "x_train = train_datagen.flow_from_directory(\"dataset/train_set\",\n",
    "                                            target_size = (64,64),\n",
    "                                            batch_size = 32 ,  \n",
    "                                            class_mode  = \"categorical\")\n",
    "x_test  = test_datagen.flow_from_directory(\"dataset/test_set\",\n",
    "                                           target_size = (64,64),\n",
    "                                           batch_size = 32 ,  \n",
    "                                           class_mode  = \"categorical\")"
   ]
  },
  {
   "cell_type": "code",
   "execution_count": 4,
   "metadata": {},
   "outputs": [],
   "source": [
    "from keras.models import Sequential\n",
    "from keras.layers import Dense\n",
    "from keras.layers import Convolution2D\n",
    "from keras.layers import MaxPooling2D\n",
    "from keras.layers import Flatten"
   ]
  },
  {
   "cell_type": "code",
   "execution_count": 24,
   "metadata": {},
   "outputs": [],
   "source": [
    "#help(Convolution2D)"
   ]
  },
  {
   "cell_type": "code",
   "execution_count": 6,
   "metadata": {},
   "outputs": [],
   "source": [
    "model=Sequential()"
   ]
  },
  {
   "cell_type": "code",
   "execution_count": 7,
   "metadata": {},
   "outputs": [],
   "source": [
    "model.add(Convolution2D(32,3,3,input_shape=(64,64,3),activation = 'relu'))"
   ]
  },
  {
   "cell_type": "code",
   "execution_count": 8,
   "metadata": {},
   "outputs": [],
   "source": [
    "model.add(MaxPooling2D(pool_size=(2,2)))"
   ]
  },
  {
   "cell_type": "code",
   "execution_count": 9,
   "metadata": {},
   "outputs": [],
   "source": [
    "#input layer\n",
    "model.add(Flatten())"
   ]
  },
  {
   "cell_type": "code",
   "execution_count": 25,
   "metadata": {},
   "outputs": [],
   "source": [
    "#help(Dense)"
   ]
  },
  {
   "cell_type": "code",
   "execution_count": 11,
   "metadata": {},
   "outputs": [],
   "source": [
    "#hidden layers\n",
    "model.add(Dense(activation='relu',units=500))"
   ]
  },
  {
   "cell_type": "code",
   "execution_count": 12,
   "metadata": {},
   "outputs": [],
   "source": [
    "model.add(Dense(activation='softmax',units=5))"
   ]
  },
  {
   "cell_type": "code",
   "execution_count": 13,
   "metadata": {},
   "outputs": [],
   "source": [
    "model.compile(loss='categorical_crossentropy',optimizer='adam',metrics=['accuracy'])"
   ]
  },
  {
   "cell_type": "code",
   "execution_count": 23,
   "metadata": {},
   "outputs": [
    {
     "name": "stdout",
     "output_type": "stream",
     "text": [
      "Epoch 1/60\n",
      "10/10 [==============================] - 2s 241ms/step - loss: 1.5725 - accuracy: 0.3153 - val_loss: 1.5410 - val_accuracy: 0.4780\n",
      "Epoch 2/60\n",
      "10/10 [==============================] - 2s 241ms/step - loss: 1.5244 - accuracy: 0.4313 - val_loss: 1.4606 - val_accuracy: 0.4214\n",
      "Epoch 3/60\n",
      "10/10 [==============================] - 2s 223ms/step - loss: 1.4766 - accuracy: 0.3898 - val_loss: 1.3626 - val_accuracy: 0.4717\n",
      "Epoch 4/60\n",
      "10/10 [==============================] - 2s 242ms/step - loss: 1.4048 - accuracy: 0.4500 - val_loss: 1.2542 - val_accuracy: 0.5660\n",
      "Epoch 5/60\n",
      "10/10 [==============================] - 2s 226ms/step - loss: 1.3557 - accuracy: 0.4441 - val_loss: 1.1825 - val_accuracy: 0.5346\n",
      "Epoch 6/60\n",
      "10/10 [==============================] - 2s 231ms/step - loss: 1.2513 - accuracy: 0.4746 - val_loss: 1.1393 - val_accuracy: 0.5472\n",
      "Epoch 7/60\n",
      "10/10 [==============================] - 2s 223ms/step - loss: 1.2359 - accuracy: 0.5356 - val_loss: 1.0809 - val_accuracy: 0.5723\n",
      "Epoch 8/60\n",
      "10/10 [==============================] - 2s 227ms/step - loss: 1.1674 - accuracy: 0.5288 - val_loss: 1.0939 - val_accuracy: 0.5409\n",
      "Epoch 9/60\n",
      "10/10 [==============================] - 2s 244ms/step - loss: 1.1109 - accuracy: 0.5750 - val_loss: 1.0319 - val_accuracy: 0.6226\n",
      "Epoch 10/60\n",
      "10/10 [==============================] - 2s 233ms/step - loss: 1.0675 - accuracy: 0.5898 - val_loss: 1.0940 - val_accuracy: 0.5283\n",
      "Epoch 11/60\n",
      "10/10 [==============================] - 2s 221ms/step - loss: 1.1083 - accuracy: 0.5593 - val_loss: 1.0320 - val_accuracy: 0.6415\n",
      "Epoch 12/60\n",
      "10/10 [==============================] - 2s 228ms/step - loss: 1.0923 - accuracy: 0.5763 - val_loss: 1.0281 - val_accuracy: 0.5472\n",
      "Epoch 13/60\n",
      "10/10 [==============================] - 2s 223ms/step - loss: 1.0418 - accuracy: 0.5898 - val_loss: 0.9820 - val_accuracy: 0.5975\n",
      "Epoch 14/60\n",
      "10/10 [==============================] - 2s 245ms/step - loss: 1.0365 - accuracy: 0.6102 - val_loss: 0.9352 - val_accuracy: 0.6604\n",
      "Epoch 15/60\n",
      "10/10 [==============================] - 2s 236ms/step - loss: 0.9618 - accuracy: 0.6441 - val_loss: 0.9013 - val_accuracy: 0.7233\n",
      "Epoch 16/60\n",
      "10/10 [==============================] - 2s 221ms/step - loss: 0.9292 - accuracy: 0.6712 - val_loss: 0.9372 - val_accuracy: 0.6541\n",
      "Epoch 17/60\n",
      "10/10 [==============================] - 2s 227ms/step - loss: 0.8907 - accuracy: 0.6780 - val_loss: 0.9291 - val_accuracy: 0.6478\n",
      "Epoch 18/60\n",
      "10/10 [==============================] - 2s 240ms/step - loss: 0.8740 - accuracy: 0.6746 - val_loss: 0.8794 - val_accuracy: 0.7107\n",
      "Epoch 19/60\n",
      "10/10 [==============================] - 2s 223ms/step - loss: 0.8847 - accuracy: 0.6881 - val_loss: 0.8702 - val_accuracy: 0.7233\n",
      "Epoch 20/60\n",
      "10/10 [==============================] - 2s 243ms/step - loss: 0.8509 - accuracy: 0.6875 - val_loss: 0.8447 - val_accuracy: 0.7107\n",
      "Epoch 21/60\n",
      "10/10 [==============================] - 2s 222ms/step - loss: 0.7990 - accuracy: 0.7254 - val_loss: 0.9424 - val_accuracy: 0.6541\n",
      "Epoch 22/60\n",
      "10/10 [==============================] - 2s 240ms/step - loss: 0.8006 - accuracy: 0.7153 - val_loss: 0.8995 - val_accuracy: 0.6415\n",
      "Epoch 23/60\n",
      "10/10 [==============================] - 2s 220ms/step - loss: 0.7898 - accuracy: 0.7186 - val_loss: 0.8589 - val_accuracy: 0.7233\n",
      "Epoch 24/60\n",
      "10/10 [==============================] - 2s 229ms/step - loss: 0.8812 - accuracy: 0.6949 - val_loss: 0.8988 - val_accuracy: 0.6604\n",
      "Epoch 25/60\n",
      "10/10 [==============================] - 2s 224ms/step - loss: 0.7961 - accuracy: 0.7220 - val_loss: 0.8185 - val_accuracy: 0.7547\n",
      "Epoch 26/60\n",
      "10/10 [==============================] - 2s 221ms/step - loss: 0.7842 - accuracy: 0.7153 - val_loss: 0.8909 - val_accuracy: 0.6604\n",
      "Epoch 27/60\n",
      "10/10 [==============================] - 2s 227ms/step - loss: 0.7641 - accuracy: 0.7051 - val_loss: 0.8137 - val_accuracy: 0.7421\n",
      "Epoch 28/60\n",
      "10/10 [==============================] - 2s 227ms/step - loss: 0.7163 - accuracy: 0.7458 - val_loss: 0.8033 - val_accuracy: 0.7044\n",
      "Epoch 29/60\n",
      "10/10 [==============================] - 2s 229ms/step - loss: 0.7203 - accuracy: 0.7593 - val_loss: 0.8143 - val_accuracy: 0.7358\n",
      "Epoch 30/60\n",
      "10/10 [==============================] - 2s 238ms/step - loss: 0.7425 - accuracy: 0.7085 - val_loss: 0.8174 - val_accuracy: 0.7233\n",
      "Epoch 31/60\n",
      "10/10 [==============================] - 2s 238ms/step - loss: 0.7257 - accuracy: 0.7424 - val_loss: 0.8385 - val_accuracy: 0.7170\n",
      "Epoch 32/60\n",
      "10/10 [==============================] - 2s 233ms/step - loss: 0.7218 - accuracy: 0.7390 - val_loss: 0.8217 - val_accuracy: 0.6792\n",
      "Epoch 33/60\n",
      "10/10 [==============================] - 2s 246ms/step - loss: 0.6708 - accuracy: 0.7797 - val_loss: 0.8264 - val_accuracy: 0.7233\n",
      "Epoch 34/60\n",
      "10/10 [==============================] - 2s 233ms/step - loss: 0.6761 - accuracy: 0.7695 - val_loss: 0.8455 - val_accuracy: 0.6981\n",
      "Epoch 35/60\n",
      "10/10 [==============================] - 2s 225ms/step - loss: 0.7207 - accuracy: 0.7186 - val_loss: 0.8189 - val_accuracy: 0.7484\n",
      "Epoch 36/60\n",
      "10/10 [==============================] - 2s 225ms/step - loss: 0.6389 - accuracy: 0.7932 - val_loss: 0.7971 - val_accuracy: 0.7484\n",
      "Epoch 37/60\n",
      "10/10 [==============================] - 2s 222ms/step - loss: 0.6452 - accuracy: 0.7559 - val_loss: 0.8978 - val_accuracy: 0.6855\n",
      "Epoch 38/60\n",
      "10/10 [==============================] - 2s 222ms/step - loss: 0.6410 - accuracy: 0.7729 - val_loss: 0.8772 - val_accuracy: 0.6855\n",
      "Epoch 39/60\n",
      "10/10 [==============================] - 2s 214ms/step - loss: 0.6731 - accuracy: 0.7559 - val_loss: 0.8903 - val_accuracy: 0.6792\n",
      "Epoch 40/60\n",
      "10/10 [==============================] - 2s 213ms/step - loss: 0.6470 - accuracy: 0.7831 - val_loss: 0.9258 - val_accuracy: 0.6981\n",
      "Epoch 41/60\n",
      "10/10 [==============================] - 2s 220ms/step - loss: 0.6373 - accuracy: 0.7966 - val_loss: 0.8419 - val_accuracy: 0.7170\n",
      "Epoch 42/60\n",
      "10/10 [==============================] - 2s 222ms/step - loss: 0.6410 - accuracy: 0.7661 - val_loss: 0.9211 - val_accuracy: 0.7044\n",
      "Epoch 43/60\n",
      "10/10 [==============================] - 2s 208ms/step - loss: 0.5935 - accuracy: 0.8136 - val_loss: 0.9245 - val_accuracy: 0.7170\n",
      "Epoch 44/60\n",
      "10/10 [==============================] - 2s 212ms/step - loss: 0.5668 - accuracy: 0.8102 - val_loss: 0.8738 - val_accuracy: 0.7233\n",
      "Epoch 45/60\n",
      "10/10 [==============================] - 2s 215ms/step - loss: 0.5721 - accuracy: 0.8271 - val_loss: 0.9199 - val_accuracy: 0.6918\n",
      "Epoch 46/60\n",
      "10/10 [==============================] - 2s 239ms/step - loss: 0.6171 - accuracy: 0.7750 - val_loss: 0.8371 - val_accuracy: 0.7358\n",
      "Epoch 47/60\n",
      "10/10 [==============================] - 2s 234ms/step - loss: 0.5743 - accuracy: 0.7898 - val_loss: 0.8359 - val_accuracy: 0.7358\n",
      "Epoch 48/60\n",
      "10/10 [==============================] - 2s 240ms/step - loss: 0.5488 - accuracy: 0.8034 - val_loss: 0.8424 - val_accuracy: 0.7296\n",
      "Epoch 49/60\n",
      "10/10 [==============================] - 2s 222ms/step - loss: 0.6023 - accuracy: 0.7661 - val_loss: 0.9242 - val_accuracy: 0.7107\n",
      "Epoch 50/60\n",
      "10/10 [==============================] - 2s 228ms/step - loss: 0.5247 - accuracy: 0.8000 - val_loss: 0.8311 - val_accuracy: 0.7610\n",
      "Epoch 51/60\n",
      "10/10 [==============================] - 2s 221ms/step - loss: 0.5431 - accuracy: 0.8000 - val_loss: 0.8588 - val_accuracy: 0.6981\n",
      "Epoch 52/60\n",
      "10/10 [==============================] - 2s 240ms/step - loss: 0.5188 - accuracy: 0.8136 - val_loss: 0.9336 - val_accuracy: 0.7484\n",
      "Epoch 53/60\n",
      "10/10 [==============================] - 2s 217ms/step - loss: 0.5163 - accuracy: 0.8102 - val_loss: 0.8669 - val_accuracy: 0.7484\n",
      "Epoch 54/60\n",
      "10/10 [==============================] - 2s 219ms/step - loss: 0.4930 - accuracy: 0.8305 - val_loss: 0.9230 - val_accuracy: 0.7233\n",
      "Epoch 55/60\n",
      "10/10 [==============================] - 2s 214ms/step - loss: 0.4724 - accuracy: 0.8407 - val_loss: 0.8830 - val_accuracy: 0.6918\n",
      "Epoch 56/60\n",
      "10/10 [==============================] - 2s 227ms/step - loss: 0.4898 - accuracy: 0.8305 - val_loss: 0.8763 - val_accuracy: 0.6981\n",
      "Epoch 57/60\n",
      "10/10 [==============================] - 2s 220ms/step - loss: 0.4502 - accuracy: 0.8305 - val_loss: 0.8649 - val_accuracy: 0.7233\n",
      "Epoch 58/60\n",
      "10/10 [==============================] - 2s 229ms/step - loss: 0.4601 - accuracy: 0.8313 - val_loss: 0.8702 - val_accuracy: 0.7233\n",
      "Epoch 59/60\n",
      "10/10 [==============================] - 2s 221ms/step - loss: 0.4150 - accuracy: 0.8441 - val_loss: 0.9345 - val_accuracy: 0.7107\n",
      "Epoch 60/60\n",
      "10/10 [==============================] - 2s 215ms/step - loss: 0.4466 - accuracy: 0.8407 - val_loss: 0.9135 - val_accuracy: 0.7296\n"
     ]
    },
    {
     "data": {
      "text/plain": [
       "<keras.callbacks.History at 0x1db516b4be0>"
      ]
     },
     "execution_count": 23,
     "metadata": {},
     "output_type": "execute_result"
    }
   ],
   "source": [
    "model.fit_generator(x_train,steps_per_epoch = 10,epochs=60,validation_data = x_test,validation_steps = 5)"
   ]
  },
  {
   "cell_type": "code",
   "execution_count": 15,
   "metadata": {},
   "outputs": [],
   "source": [
    "model.save(\"skindisease.h5\")"
   ]
  },
  {
   "cell_type": "code",
   "execution_count": 16,
   "metadata": {},
   "outputs": [
    {
     "name": "stdout",
     "output_type": "stream",
     "text": [
      "{'Acne': 0, 'Melanoma': 1, 'Peeling skin': 2, 'Ring worm': 3, 'Vitiligo': 4}\n"
     ]
    }
   ],
   "source": [
    "print(x_train.class_indices)"
   ]
  },
  {
   "cell_type": "code",
   "execution_count": 17,
   "metadata": {},
   "outputs": [],
   "source": [
    "labels_dict = {0:'Acne', 1 : 'Melanoma', 2 : 'Peeling skin', 3 : 'Ring worm', 4 : 'Vitiligo'}"
   ]
  },
  {
   "cell_type": "code",
   "execution_count": 18,
   "metadata": {},
   "outputs": [],
   "source": [
    "test_img_path = \"dataset/download.jpg\""
   ]
  },
  {
   "cell_type": "code",
   "execution_count": 19,
   "metadata": {},
   "outputs": [
    {
     "data": {
      "image/png": "[encoded data removed]",
      "text/plain": [
       "<PIL.Image.Image image mode=RGB size=64x64 at 0x1DB525624F0>"
      ]
     },
     "execution_count": 19,
     "metadata": {},
     "output_type": "execute_result"
    }
   ],
   "source": [
    "from keras.preprocessing import image\n",
    "new_image = image.load_img(test_img_path, target_size = (64, 64))\n",
    "new_image\n"
   ]
  },
  {
   "cell_type": "code",
   "execution_count": 20,
   "metadata": {},
   "outputs": [],
   "source": [
    "import numpy as np\n",
    "new_image = image.img_to_array(new_image)\n",
    "new_image = np.expand_dims(new_image, axis = 0)"
   ]
  },
  {
   "cell_type": "code",
   "execution_count": 21,
   "metadata": {},
   "outputs": [
    {
     "data": {
      "text/plain": [
       "array([[0.0000000e+00, 2.5233194e-30, 0.0000000e+00, 9.5503590e-33,\n",
       "        1.0000000e+00]], dtype=float32)"
      ]
     },
     "execution_count": 21,
     "metadata": {},
     "output_type": "execute_result"
    }
   ],
   "source": [
    "result = model.predict(new_image)\n",
    "result"
   ]
  },
  {
   "cell_type": "code",
   "execution_count": 22,
   "metadata": {},
   "outputs": [
    {
     "data": {
      "text/plain": [
       "'Vitiligo'"
      ]
     },
     "execution_count": 22,
     "metadata": {},
     "output_type": "execute_result"
    }
   ],
   "source": [
    "label=np.argmax(result,axis=1)[0]\n",
    "labels_dict[label]"
   ]
  },
  {
   "cell_type": "code",
   "execution_count": null,
   "metadata": {},
   "outputs": [],
   "source": []
  }
 ],
 "metadata": {
  "kernelspec": {
   "display_name": "Python 3 (ipykernel)",
   "language": "python",
   "name": "python3"
  },
  "language_info": {
   "codemirror_mode": {
    "name": "ipython",
    "version": 3
   },
   "file_extension": ".py",
   "mimetype": "text/x-python",
   "name": "python",
   "nbconvert_exporter": "python",
   "pygments_lexer": "ipython3",
   "version": "3.7.4"
  }
 },
 "nbformat": 4,
 "nbformat_minor": 2
}
